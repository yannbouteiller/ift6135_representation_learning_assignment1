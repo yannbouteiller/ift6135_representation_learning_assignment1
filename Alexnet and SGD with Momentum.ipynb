{
 "cells": [
  {
   "cell_type": "markdown",
   "metadata": {},
   "source": [
    "## Alexnet and SGD with Momentum\n",
    "\n",
    "Here's the implementation mentioned in the report of alexnet and sgd with momentum."
   ]
  },
  {
   "cell_type": "code",
   "execution_count": null,
   "metadata": {},
   "outputs": [],
   "source": [
    "class LikeAlexNet(nn.Module):\n",
    "    def init(self):\n",
    "        super(LikeAlexNet, self).init()\n",
    "        self.features = nn.Sequential(\n",
    "            nn.Conv2d(3, 64, kernel_size=11, stride=4, padding=2),\n",
    "            nn.ReLU(inplace=True),\n",
    "            nn.MaxPool2d(kernel_size=3, stride=2),\n",
    "            nn.Conv2d(64, 192, kernel_size=5, padding=2),\n",
    "            nn.ReLU(inplace=True),\n",
    "            nn.MaxPool2d(kernel_size=3, stride=2),\n",
    "            nn.Conv2d(192, 384, kernel_size=3, padding=1),\n",
    "            nn.ReLU(inplace=True),\n",
    "            nn.Conv2d(384, 256, kernel_size=3, padding=1),\n",
    "            nn.ReLU(inplace=True),\n",
    "            nn.Conv2d(256, 256, kernel_size=3, padding=1),\n",
    "            nn.ReLU(inplace=True),\n",
    "            nn.MaxPool2d(kernel_size=3, stride=2),\n",
    "        )\n",
    "        self.classifier = nn.Sequential(\n",
    "            # nn.Dropout(),\n",
    "            nn.Linear(256 * 1 * 1, 4096),\n",
    "            nn.ReLU(inplace=True),\n",
    "            # nn.Dropout(),\n",
    "            nn.Linear(4096, 4096),\n",
    "            nn.ReLU(inplace=True),\n",
    "            nn.Linear(4096, 2),\n",
    "        )\n",
    "\n",
    "\n",
    "    def forward(self, x):\n",
    "        x = self.features(x)\n",
    "        x = x.view(x.size(0), 256 * 1 * 1)\n",
    "        x = self.classifier(x)\n",
    "        return x\n",
    "\n",
    "from collections import defaultdict\n",
    "\n",
    "\n",
    "class myoptimizer():\n",
    "\n",
    "\n",
    "    def init(self,model,lr,beta=0.9,lr_decay=.98):\n",
    "        self.v = defaultdict(int)\n",
    "        self.beta = beta\n",
    "        self.lr = lr\n",
    "        self.model = model\n",
    "        self.lr_decay = lr_decay\n",
    "\n",
    "    def step(self):\n",
    "        with torch.no_grad():\n",
    "            for i,params in enumerate(self.model.parameters()):\n",
    "                self.v[i] = self.beta*self.v[i] + (1-self.beta) * params.grad\n",
    "                params.data -= self.lr * self.v[i]\n",
    "\n",
    "    def zerograd(self):\n",
    "        for params in self.model.parameters():\n",
    "            if params.grad is not None:\n",
    "                params.grad.detach()\n",
    "                params.grad.zero_()\n",
    "\n",
    "    def update_lr(self):\n",
    "    self.lr = self.lr * self.lr_decay"
   ]
  }
 ],
 "metadata": {
  "kernelspec": {
   "display_name": "Python 3",
   "language": "python",
   "name": "python3"
  },
  "language_info": {
   "codemirror_mode": {
    "name": "ipython",
    "version": 3
   },
   "file_extension": ".py",
   "mimetype": "text/x-python",
   "name": "python",
   "nbconvert_exporter": "python",
   "pygments_lexer": "ipython3",
   "version": "3.6.3"
  }
 },
 "nbformat": 4,
 "nbformat_minor": 2
}
